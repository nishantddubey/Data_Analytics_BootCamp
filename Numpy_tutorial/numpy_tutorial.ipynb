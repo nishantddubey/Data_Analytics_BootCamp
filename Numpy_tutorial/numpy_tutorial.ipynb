{
 "cells": [
  {
   "cell_type": "markdown",
   "id": "f9914038-8a31-42d1-ba9c-fa125a1db208",
   "metadata": {},
   "source": [
    "Installing Numpy"
   ]
  },
  {
   "cell_type": "code",
   "execution_count": 2,
   "id": "6f796d1e-d906-470c-a1db-847e7d2e270a",
   "metadata": {},
   "outputs": [
    {
     "name": "stdout",
     "output_type": "stream",
     "text": [
      "Defaulting to user installation because normal site-packages is not writeableNote: you may need to restart the kernel to use updated packages.\n",
      "\n",
      "Requirement already satisfied: numpy in c:\\programdata\\anaconda3\\lib\\site-packages (1.26.4)\n"
     ]
    }
   ],
   "source": [
    "pip install numpy"
   ]
  },
  {
   "cell_type": "markdown",
   "id": "480c877c-bf69-4548-8919-c6e8393c2388",
   "metadata": {},
   "source": [
    "Upgrading Numpy for newest version"
   ]
  },
  {
   "cell_type": "code",
   "execution_count": 8,
   "id": "a047c876-6345-4208-82f2-2e3c2b3866ea",
   "metadata": {},
   "outputs": [
    {
     "name": "stdout",
     "output_type": "stream",
     "text": [
      "Defaulting to user installation because normal site-packages is not writeable\n",
      "Requirement already satisfied: numpy in c:\\users\\nishant\\appdata\\roaming\\python\\python312\\site-packages (2.2.1)\n",
      "Note: you may need to restart the kernel to use updated packages.\n"
     ]
    }
   ],
   "source": [
    "pip install numpy --upgrade"
   ]
  },
  {
   "cell_type": "markdown",
   "id": "8e4b0f8a-18b2-4559-a988-5d8913ee20c9",
   "metadata": {},
   "source": [
    "importing Numpy"
   ]
  },
  {
   "cell_type": "code",
   "execution_count": 9,
   "id": "3f82a9ea-4c5b-4af8-81f2-13f1825bc237",
   "metadata": {},
   "outputs": [],
   "source": [
    "import numpy as np"
   ]
  },
  {
   "cell_type": "markdown",
   "id": "796410f2-1cf1-4a09-b78b-84c0fa301fd6",
   "metadata": {},
   "source": [
    "Using Numpy "
   ]
  },
  {
   "cell_type": "markdown",
   "id": "a30371c9-e34b-4c59-bdaa-22209e496edd",
   "metadata": {},
   "source": [
    "Creating 1-D array"
   ]
  },
  {
   "cell_type": "markdown",
   "id": "557a6cdd-a858-45ff-bee2-9678f2ff7d62",
   "metadata": {},
   "source": [
    "arr1 = np.array([1,2,3,4])"
   ]
  },
  {
   "cell_type": "code",
   "execution_count": 21,
   "id": "5adf35e4-bc1c-4c08-b7a2-ff79d2113c5f",
   "metadata": {},
   "outputs": [
    {
     "data": {
      "text/plain": [
       "array([1, 2, 3, 4])"
      ]
     },
     "execution_count": 21,
     "metadata": {},
     "output_type": "execute_result"
    }
   ],
   "source": [
    "arr1"
   ]
  },
  {
   "cell_type": "markdown",
   "id": "101dff4f-4304-464c-b7eb-dd0b084ebec5",
   "metadata": {},
   "source": [
    "Creating 2-D array"
   ]
  },
  {
   "cell_type": "code",
   "execution_count": 24,
   "id": "73f538e6-1755-4732-8dd1-68a087f19139",
   "metadata": {},
   "outputs": [
    {
     "data": {
      "text/plain": [
       "array([[1, 2, 3, 4],\n",
       "       [5, 6, 7, 8]])"
      ]
     },
     "execution_count": 24,
     "metadata": {},
     "output_type": "execute_result"
    }
   ],
   "source": [
    "arr2 = np.array([[1,2,3,4],[5,6,7,8]])\n",
    "arr2"
   ]
  },
  {
   "cell_type": "markdown",
   "id": "33f206b6-bae3-459f-8223-73ac23e24495",
   "metadata": {},
   "source": [
    "For more reference we can refer to the Numpy documentation"
   ]
  },
  {
   "cell_type": "markdown",
   "id": "28afe152-1ecb-433b-ad84-6fd8a65d29c8",
   "metadata": {},
   "source": [
    "https://numpy.org/"
   ]
  }
 ],
 "metadata": {
  "kernelspec": {
   "display_name": "Python 3 (ipykernel)",
   "language": "python",
   "name": "python3"
  },
  "language_info": {
   "codemirror_mode": {
    "name": "ipython",
    "version": 3
   },
   "file_extension": ".py",
   "mimetype": "text/x-python",
   "name": "python",
   "nbconvert_exporter": "python",
   "pygments_lexer": "ipython3",
   "version": "3.12.7"
  }
 },
 "nbformat": 4,
 "nbformat_minor": 5
}
