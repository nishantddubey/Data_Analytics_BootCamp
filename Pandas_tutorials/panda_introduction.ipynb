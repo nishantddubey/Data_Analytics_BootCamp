{
 "cells": [
  {
   "cell_type": "markdown",
   "id": "58f01736-e8fc-49b4-b570-6cbd4882e15a",
   "metadata": {},
   "source": [
    "# Pandas in Python\n",
    "\n",
    "**Pandas** is an open-source library in Python that provides data structures and data analysis tools for handling and manipulating structured data. It is widely used in data analysis, machine learning, data visualization, and more. Pandas is built on top of the **NumPy** library and offers two primary data structures: **Series** and **DataFrame**.\n",
    "\n",
    "### Why do we use Pandas?\n",
    "\n",
    "- **Data Manipulation:** Pandas makes it easy to clean, transform, and manipulate data. It offers functionalities like merging, grouping, reshaping, and aggregating data.\n",
    "- **Efficient Data Handling:** It can handle large datasets efficiently, providing operations to select, filter, and transform data with minimal effort.\n",
    "- **Data Analysis:** Pandas provides functions for statistical analysis, making it a crucial tool for data science and analysis.\n",
    "- **Time Series Data:** It has built-in support for working with time series data, making it suitable for financial data analysis, forecasting, and more.\n",
    "  \n",
    "### Series\n",
    "\n",
    "A **Series** is a one-dimensional labeled array capable of holding any data type (integer, float, string, Python objects, etc.). It is similar to a list or an array but with an index, which makes it more powerful.\n",
    "\n",
    "#### Key Features of Series:\n",
    "- A single column of data.\n",
    "- Contains an **index** (labels) for each element in the series.\n",
    "- Can hold data of any type (integers, strings, floats, etc.).\n",
    "\n",
    "# Difference Between Series and DataFrame\n",
    "\n",
    "Pandas provides two main data structures for handling data: **Series** and **DataFrame**. Both serve different purposes and have unique characteristics. Below is a detailed comparison of Series and DataFrame:\n",
    "\n",
    "| **Feature**          | **Series**                                           | **DataFrame**                                         |\n",
    "|----------------------|------------------------------------------------------|------------------------------------------------------|\n",
    "| **Dimensionality**    | One-dimensional (1D) array-like structure            | Two-dimensional (2D) table-like structure            |\n",
    "| **Structure**         | A single column of data with an associated index.    | Multiple columns of data, with each column potentially having a different data type. |\n",
    "| **Data Types**        | Holds a single data type (e.g., integers, floats).   | Can hold multiple data types across different columns (e.g., integers, floats, strings). |\n",
    "| **Indexing**          | Accessed via an index (labels for each element).     | Accessed via both row and column labels. Columns can be accessed by column name. |\n",
    "| **Use Case**          | Ideal for handling one-dimensional data (e.g., list of numbers, strings). | Ideal for handling two-dimensional, tabular data (e.g., spreadsheets, database tables). |\n",
    "| **Operations**        | Supports vectorized operations like filtering and transforming data. | Supports more complex operations like merging, reshaping, and aggregating data. |\n",
    "| **Example**           | A list of integers with an index:                    | A table of structured data with multiple columns: |\n",
    "|                      | ```python                                          | ```python                                            |\n",
    "|                      | data = [1, 2, 3, 4, 5]                              | data = {'Name': ['Alice', 'Bob'],                   |\n",
    "|                      | series = pd.Series(data)                            |         'Age': [25, 30]}                            |\n",
    "|                      | print(series)                                       | df = pd.DataFrame(data)                             |\n",
    "|                      | ```                                                | print(df)                                            |\n",
    "|                      | Output:                                             | Output:                                             |\n",
    "|                      | ```                                               | ```                                                |\n",
    "|                      | 0    1                                             |     Name  Age                                      |\n",
    "|                      | 1    2                                             | 0   Alice   25                                      |\n",
    "|                      | 2    3                                             | 1     Bob   30                                      |\n",
    "|                      | 3    4                                             | ```                                                |\n",
    "|                      | 4    5                                             |                                                      |\n",
    "|                      | dtype: int64                                        |                                                      |\n",
    "|                      | ```                                                |                                                      |\n",
    "| **Data Modification** | Supports operations like slicing, filtering, and transformation. | Supports similar operations plus merging, joining, and handling hierarchical data. |\n",
    "| **Memory Efficiency** | More memory-efficient for smaller, single-column data. | Less memory-efficient than Series due to its multi-column structure. |\n",
    "\n",
    "### Summary:\n",
    "- **Series**: A single column of data with an index, best suited for one-dimensional data.\n",
    "- **DataFrame**: A table-like structure with multiple columns and rows, best suited for two-dimensional data and complex data analysis.\n",
    "\n",
    "Pandas' Series and DataFrame are the core data structures for working with structured data in Python. Series is for one-dimensional data, while DataFrame is for more complex, multi-dimensional data.\n",
    "\n",
    "**Example:**\n",
    "\n",
    "```python\n",
    "import pandas as pd\n",
    "\n",
    "data = [1, 2, 3, 4, 5]\n",
    "series = pd.Series(data)\n",
    "print(series)\n"
   ]
  },
  {
   "cell_type": "markdown",
   "id": "a3093b68-3b10-449a-b532-48bb5783acff",
   "metadata": {},
   "source": [
    "### installing and running Pandas"
   ]
  },
  {
   "cell_type": "markdown",
   "id": "9bb831da-a5c5-4218-b23b-cc2dda57e933",
   "metadata": {},
   "source": [
    "##### installation"
   ]
  },
  {
   "cell_type": "code",
   "execution_count": 2,
   "id": "235a035d-b6c5-4ccc-8dbd-293fee6bfe54",
   "metadata": {},
   "outputs": [
    {
     "name": "stdout",
     "output_type": "stream",
     "text": [
      "Defaulting to user installation because normal site-packages is not writeableNote: you may need to restart the kernel to use updated packages.\n",
      "\n",
      "Requirement already satisfied: pandas in c:\\users\\nishant\\appdata\\roaming\\python\\python312\\site-packages (2.2.3)\n",
      "Requirement already satisfied: numpy>=1.26.0 in c:\\users\\nishant\\appdata\\roaming\\python\\python312\\site-packages (from pandas) (2.2.1)\n",
      "Requirement already satisfied: python-dateutil>=2.8.2 in c:\\programdata\\anaconda3\\lib\\site-packages (from pandas) (2.9.0.post0)\n",
      "Requirement already satisfied: pytz>=2020.1 in c:\\programdata\\anaconda3\\lib\\site-packages (from pandas) (2024.1)\n",
      "Requirement already satisfied: tzdata>=2022.7 in c:\\programdata\\anaconda3\\lib\\site-packages (from pandas) (2023.3)\n",
      "Requirement already satisfied: six>=1.5 in c:\\programdata\\anaconda3\\lib\\site-packages (from python-dateutil>=2.8.2->pandas) (1.16.0)\n"
     ]
    }
   ],
   "source": [
    "pip install pandas"
   ]
  },
  {
   "attachments": {},
   "cell_type": "markdown",
   "id": "de546eca-00c6-4b59-8d41-425db4f73465",
   "metadata": {},
   "source": [
    "##### install an specific version\n"
   ]
  },
  {
   "cell_type": "code",
   "execution_count": null,
   "id": "3c425573-0f21-429a-97e9-359c00d407d3",
   "metadata": {},
   "outputs": [],
   "source": [
    "pip install pandas==1.0.4"
   ]
  },
  {
   "cell_type": "markdown",
   "id": "73a1af9e-98e5-43ea-8016-19e0464cc31e",
   "metadata": {},
   "source": [
    "##### upgrading pandas"
   ]
  },
  {
   "cell_type": "code",
   "execution_count": 4,
   "id": "a1fbdabb-5aa8-4571-b1b7-cc6ce92c5875",
   "metadata": {},
   "outputs": [
    {
     "name": "stdout",
     "output_type": "stream",
     "text": [
      "Defaulting to user installation because normal site-packages is not writeable\n",
      "Requirement already satisfied: pandas in c:\\users\\nishant\\appdata\\roaming\\python\\python312\\site-packages (2.2.3)\n",
      "Requirement already satisfied: numpy>=1.26.0 in c:\\users\\nishant\\appdata\\roaming\\python\\python312\\site-packages (from pandas) (2.2.1)\n",
      "Requirement already satisfied: python-dateutil>=2.8.2 in c:\\programdata\\anaconda3\\lib\\site-packages (from pandas) (2.9.0.post0)\n",
      "Requirement already satisfied: pytz>=2020.1 in c:\\programdata\\anaconda3\\lib\\site-packages (from pandas) (2024.1)\n",
      "Requirement already satisfied: tzdata>=2022.7 in c:\\programdata\\anaconda3\\lib\\site-packages (from pandas) (2023.3)\n",
      "Requirement already satisfied: six>=1.5 in c:\\programdata\\anaconda3\\lib\\site-packages (from python-dateutil>=2.8.2->pandas) (1.16.0)\n",
      "Note: you may need to restart the kernel to use updated packages.\n"
     ]
    }
   ],
   "source": [
    "pip install pandas --upgrade"
   ]
  },
  {
   "cell_type": "markdown",
   "id": "1c92254c-8439-4ab6-867d-48c809c7ab7b",
   "metadata": {},
   "source": [
    "###### Note\n",
    "- to change a cell into markdown we can use esc+m and switch back to code cell esc+y\n",
    "- to create a cell above a cell use esc+a or below use esc+b"
   ]
  },
  {
   "cell_type": "markdown",
   "id": "a559bff7-2088-4004-90aa-b3706ffd559b",
   "metadata": {},
   "source": [
    "#### Using pandas"
   ]
  },
  {
   "cell_type": "markdown",
   "id": "d8d3f954-beff-458b-adbf-650399ee3316",
   "metadata": {},
   "source": [
    "##### importing"
   ]
  },
  {
   "cell_type": "code",
   "execution_count": 7,
   "id": "242d654b-8a85-48fd-8495-12eab91ff3b2",
   "metadata": {},
   "outputs": [
    {
     "data": {
      "text/plain": [
       "'2.2.3'"
      ]
     },
     "execution_count": 7,
     "metadata": {},
     "output_type": "execute_result"
    }
   ],
   "source": [
    "import pandas as pd\n"
   ]
  },
  {
   "cell_type": "code",
   "execution_count": 8,
   "id": "e5817108-6e5d-4de7-b789-b7e439856bd2",
   "metadata": {},
   "outputs": [
    {
     "data": {
      "text/plain": [
       "'2.2.3'"
      ]
     },
     "execution_count": 8,
     "metadata": {},
     "output_type": "execute_result"
    }
   ],
   "source": [
    "pd.__version__"
   ]
  }
 ],
 "metadata": {
  "kernelspec": {
   "display_name": "Python 3 (ipykernel)",
   "language": "python",
   "name": "python3"
  },
  "language_info": {
   "codemirror_mode": {
    "name": "ipython",
    "version": 3
   },
   "file_extension": ".py",
   "mimetype": "text/x-python",
   "name": "python",
   "nbconvert_exporter": "python",
   "pygments_lexer": "ipython3",
   "version": "3.12.7"
  }
 },
 "nbformat": 4,
 "nbformat_minor": 5
}
