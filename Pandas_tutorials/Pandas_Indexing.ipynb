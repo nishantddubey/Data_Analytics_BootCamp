{
 "cells": [
  {
   "cell_type": "markdown",
   "id": "22068cef-291e-4b3b-b5ab-d50c1d77f8ca",
   "metadata": {},
   "source": [
    "# Pandas Indexing\n",
    "\n",
    "**Indexing** in Pandas is a way to access and modify data in a DataFrame or Series. There are several methods to perform indexing, including label-based, position-based, and conditional indexing. Pandas also allows for slicing, selecting specific columns, and applying boolean conditions to filter data.\n",
    "\n",
    "## Types of Indexing in Pandas\n",
    "\n",
    "1. **Label-based Indexing** (`loc`)\n",
    "2. **Position-based Indexing** (`iloc`)\n",
    "3. **Conditional Indexing**\n",
    "4. **Selecting Columns**\n",
    "\n",
    "## 1. Label-based Indexing (`loc`)\n",
    "\n",
    "Label-based indexing allows you to select data based on the index or column labels.\n",
    "\n",
    "### Example:\n",
    "\n",
    "```python\n",
    "import pandas as pd\n",
    "\n",
    "data = {'Name': ['Alice', 'Bob', 'Charlie'], 'Age': [25, 30, 35]}\n",
    "df = pd.DataFrame(data)\n",
    "\n",
    "# Select data by label (row and column)\n",
    "result = df.loc[1, 'Name']  # Select the 'Name' of row 1\n",
    "print(result)\n"
   ]
  },
  {
   "cell_type": "code",
   "execution_count": null,
   "id": "50b550a4-3dfa-427f-9087-e1e4d3ef4261",
   "metadata": {},
   "outputs": [],
   "source": []
  }
 ],
 "metadata": {
  "kernelspec": {
   "display_name": "Python 3 (ipykernel)",
   "language": "python",
   "name": "python3"
  },
  "language_info": {
   "codemirror_mode": {
    "name": "ipython",
    "version": 3
   },
   "file_extension": ".py",
   "mimetype": "text/x-python",
   "name": "python",
   "nbconvert_exporter": "python",
   "pygments_lexer": "ipython3",
   "version": "3.12.7"
  }
 },
 "nbformat": 4,
 "nbformat_minor": 5
}
