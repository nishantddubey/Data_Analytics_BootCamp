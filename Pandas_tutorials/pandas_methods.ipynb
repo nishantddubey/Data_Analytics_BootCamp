{
 "cells": [
  {
   "cell_type": "markdown",
   "id": "06779e53-08bd-4149-9809-6f294fb8bf8b",
   "metadata": {},
   "source": [
    "## frequenltly used methods in pandas series"
   ]
  },
  {
   "cell_type": "code",
   "execution_count": 2,
   "id": "f2451f64-bb94-426d-b359-37d0b72d9cfb",
   "metadata": {},
   "outputs": [
    {
     "name": "stdout",
     "output_type": "stream",
     "text": [
      "2025-01-01     500\n",
      "2025-01-02     600\n",
      "2025-01-03     550\n",
      "2025-01-04     700\n",
      "2025-01-05     650\n",
      "2025-01-06     800\n",
      "2025-01-07     750\n",
      "2025-01-08     950\n",
      "2025-01-09    1000\n",
      "2025-01-10    1100\n",
      "Freq: D, dtype: int64\n"
     ]
    }
   ],
   "source": [
    "import pandas as pd\n",
    "\n",
    "# Creating a date range for 10 days\n",
    "dates = pd.date_range(start=\"2025-01-01\", periods=10, freq='D')\n",
    "\n",
    "# Generating some sample deposit amounts\n",
    "deposits = [500, 600, 550, 700, 650, 800, 750, 950, 1000, 1100]\n",
    "\n",
    "# Creating the Data Series using the dictionary format\n",
    "deposit_series = pd.Series(deposits, index=dates)\n",
    "\n",
    "# Display the Data Series\n",
    "print(deposit_series)"
   ]
  },
  {
   "cell_type": "code",
   "execution_count": 4,
   "id": "7ad97d5e-3f5b-4782-adfd-166f42f11ee8",
   "metadata": {},
   "outputs": [
    {
     "data": {
      "text/plain": [
       "np.int64(7600)"
      ]
     },
     "execution_count": 4,
     "metadata": {},
     "output_type": "execute_result"
    }
   ],
   "source": [
    "deposit_series.sum()"
   ]
  },
  {
   "cell_type": "code",
   "execution_count": 6,
   "id": "8ab820be-3ebc-4264-8de1-d4fa0a657d69",
   "metadata": {},
   "outputs": [
    {
     "data": {
      "text/plain": [
       "np.int64(500)"
      ]
     },
     "execution_count": 6,
     "metadata": {},
     "output_type": "execute_result"
    }
   ],
   "source": [
    "deposit_series.min()"
   ]
  },
  {
   "cell_type": "code",
   "execution_count": 8,
   "id": "cef2eefd-d0bd-4b8b-88fd-289e0fb27591",
   "metadata": {},
   "outputs": [
    {
     "data": {
      "text/plain": [
       "np.int64(1100)"
      ]
     },
     "execution_count": 8,
     "metadata": {},
     "output_type": "execute_result"
    }
   ],
   "source": [
    "deposit_series.max()"
   ]
  },
  {
   "cell_type": "code",
   "execution_count": 11,
   "id": "65275b4b-0064-425a-9962-2bd2845d81b2",
   "metadata": {},
   "outputs": [
    {
     "data": {
      "text/plain": [
       "Timestamp('2025-01-10 00:00:00')"
      ]
     },
     "execution_count": 11,
     "metadata": {},
     "output_type": "execute_result"
    }
   ],
   "source": [
    "deposit_series.idxmax() "
   ]
  },
  {
   "cell_type": "code",
   "execution_count": 13,
   "id": "b9eb1a41-1f81-45f4-bc7a-06b6017ec835",
   "metadata": {},
   "outputs": [
    {
     "data": {
      "text/plain": [
       "Timestamp('2025-01-01 00:00:00')"
      ]
     },
     "execution_count": 13,
     "metadata": {},
     "output_type": "execute_result"
    }
   ],
   "source": [
    "deposit_series.idxmin()"
   ]
  },
  {
   "cell_type": "code",
   "execution_count": 15,
   "id": "c9fe3702-84af-4864-8c89-6fd89bb2a7cb",
   "metadata": {},
   "outputs": [
    {
     "data": {
      "text/plain": [
       "2025-01-01    500\n",
       "2025-01-02    600\n",
       "2025-01-03    550\n",
       "2025-01-04    700\n",
       "2025-01-05    650\n",
       "Freq: D, dtype: int64"
      ]
     },
     "execution_count": 15,
     "metadata": {},
     "output_type": "execute_result"
    }
   ],
   "source": [
    "deposit_series.head()"
   ]
  },
  {
   "cell_type": "code",
   "execution_count": 17,
   "id": "54a380a0-11a7-45ae-abb5-77ee9d0bd313",
   "metadata": {},
   "outputs": [
    {
     "data": {
      "text/plain": [
       "2025-01-06     800\n",
       "2025-01-07     750\n",
       "2025-01-08     950\n",
       "2025-01-09    1000\n",
       "2025-01-10    1100\n",
       "Freq: D, dtype: int64"
      ]
     },
     "execution_count": 17,
     "metadata": {},
     "output_type": "execute_result"
    }
   ],
   "source": [
    "deposit_series.tail()"
   ]
  },
  {
   "cell_type": "markdown",
   "id": "8b9be16d-226b-48cb-8f56-845bf1583a60",
   "metadata": {},
   "source": [
    "#### we can also specify the numner of rows as parameter"
   ]
  },
  {
   "cell_type": "code",
   "execution_count": 19,
   "id": "27a33906-c330-4b00-8fe3-20ce040b964b",
   "metadata": {},
   "outputs": [
    {
     "data": {
      "text/plain": [
       "2025-01-01    500\n",
       "2025-01-02    600\n",
       "2025-01-03    550\n",
       "Freq: D, dtype: int64"
      ]
     },
     "execution_count": 19,
     "metadata": {},
     "output_type": "execute_result"
    }
   ],
   "source": [
    "deposit_series.head(3)"
   ]
  },
  {
   "cell_type": "code",
   "execution_count": 21,
   "id": "7c0e0d82-5727-477c-ad88-3afdbc07cde6",
   "metadata": {},
   "outputs": [
    {
     "data": {
      "text/plain": [
       "2025-01-07     750\n",
       "2025-01-08     950\n",
       "2025-01-09    1000\n",
       "2025-01-10    1100\n",
       "Freq: D, dtype: int64"
      ]
     },
     "execution_count": 21,
     "metadata": {},
     "output_type": "execute_result"
    }
   ],
   "source": [
    "deposit_series.tail(4)"
   ]
  },
  {
   "cell_type": "markdown",
   "id": "d983e58d-5ac6-4c5d-975c-91aa4d946907",
   "metadata": {},
   "source": [
    "## Note:\n",
    "- we can  refer docummentation by refering this website: https://pandas.pydata.org/docs/"
   ]
  },
  {
   "cell_type": "code",
   "execution_count": 23,
   "id": "93de45cf-5119-4f2e-bb44-24f3956918e3",
   "metadata": {},
   "outputs": [
    {
     "data": {
      "text/plain": [
       "0       11\n",
       "1       ab\n",
       "2       22\n",
       "3    False\n",
       "4      2.4\n",
       "dtype: object"
      ]
     },
     "execution_count": 23,
     "metadata": {},
     "output_type": "execute_result"
    }
   ],
   "source": [
    "pd.Series([11,\"ab\",22,False,2.4])\n",
    "\n"
   ]
  }
 ],
 "metadata": {
  "kernelspec": {
   "display_name": "Python 3 (ipykernel)",
   "language": "python",
   "name": "python3"
  },
  "language_info": {
   "codemirror_mode": {
    "name": "ipython",
    "version": 3
   },
   "file_extension": ".py",
   "mimetype": "text/x-python",
   "name": "python",
   "nbconvert_exporter": "python",
   "pygments_lexer": "ipython3",
   "version": "3.12.7"
  }
 },
 "nbformat": 4,
 "nbformat_minor": 5
}
